{
 "cells": [
  {
   "cell_type": "code",
   "execution_count": 61,
   "id": "670bfd3d",
   "metadata": {},
   "outputs": [],
   "source": [
    "import pandas as pd\n",
    "GUNSHOT_DEATHS = '../data/interactive_data.csv'"
   ]
  },
  {
   "cell_type": "code",
   "execution_count": 62,
   "id": "c492ce1c",
   "metadata": {},
   "outputs": [],
   "source": [
    "def format_attr(dataframe):\n",
    "    '''\n",
    "    Create a new dataframe with all attributes\n",
    "    formatted according to the gunshot datasets'\n",
    "    :param dataframe: pandas.DataFrame\n",
    "    :return: new dataframe\n",
    "    '''\n",
    "    formatted_df = pd.DataFrame()\n",
    "    formatted_df['Intent'] = df['Intent'].astype(str)\n",
    "    formatted_df['Gender'] = df['Gender'].astype(str)\n",
    "    formatted_df['Age'] = df['Age'].astype(str)\n",
    "    formatted_df['Race'] = df['Race'].astype(str)\n",
    "    formatted_df['Deaths'] = df['Deaths'].astype(int)\n",
    "    formatted_df['Population'] = df['Population'].astype(int)\n",
    "    formatted_df['Rate'] = df['Rate'].astype(float)\n",
    "    return formatted_df"
   ]
  },
  {
   "cell_type": "code",
   "execution_count": 77,
   "id": "9a6344ce",
   "metadata": {},
   "outputs": [
    {
     "name": "stdout",
     "output_type": "stream",
     "text": [
      "62.67448435965356 % of gun deaths are suicides.\n",
      "86.24750688574414 % of suicide victims are male.\n",
      "34.899848209768145 % of gun deaths are homicides.\n",
      "66.13496932515336 % of homicide victims who are males in the age-group of 15--34 are black.\n",
      "Women constitue only 15.273750639604296 % of the total homicide victims.\n"
     ]
    }
   ],
   "source": [
    "# Read data from memory and clean it\n",
    "df = pd.read_csv(GUNSHOT_DEATHS)\n",
    "df = df.dropna()\n",
    "df = format_attr(df)\n",
    "\n",
    "all_deaths = df[(df['Intent'] == 'None selected')].Deaths.max()\n",
    "\n",
    "suicides = df[(df['Intent'] == 'Suicide')].Deaths.max()\n",
    "print(suicides/all_deaths*100,'% of gun deaths are suicides.')\n",
    "\n",
    "male_suicides = df[(df['Intent'] == 'Suicide') & (df['Gender'] == 'Male')].Deaths.max()\n",
    "print(male_suicides/suicides*100,'% of suicide victims are male.')\n",
    "\n",
    "homicides = df[(df['Intent'] == 'Homicide')].Deaths.max()\n",
    "print(homicides/all_deaths*100,'% of gun deaths are homicides.')\n",
    "\n",
    "young_black_male_homicides = df[(df['Intent'] == 'Homicide') & (df['Gender'] == 'Male') & (df['Age'] == '15 - 34') & (df['Race'] == 'Black')].Deaths.max()\n",
    "young_male_homicides = df[(df['Intent'] == 'Homicide') & (df['Gender'] == 'Male') & (df['Age'] == '15 - 34')].Deaths.max()\n",
    "print(young_black_male_homicides/young_male_homicides*100, '% of homicide victims who are males in the age-group of 15--34 are black.')\n",
    "\n",
    "women_homicides = df[(df['Intent'] == 'Homicide') & (df['Gender'] == 'Female')].Deaths.max()\n",
    "print('Women constitue only', women_homicides/homicides*100, '% of the total homicide victims.')"
   ]
  }
 ],
 "metadata": {
  "kernelspec": {
   "display_name": "Python 3 (ipykernel)",
   "language": "python",
   "name": "python3"
  },
  "language_info": {
   "codemirror_mode": {
    "name": "ipython",
    "version": 3
   },
   "file_extension": ".py",
   "mimetype": "text/x-python",
   "name": "python",
   "nbconvert_exporter": "python",
   "pygments_lexer": "ipython3",
   "version": "3.8.11"
  }
 },
 "nbformat": 4,
 "nbformat_minor": 5
}
